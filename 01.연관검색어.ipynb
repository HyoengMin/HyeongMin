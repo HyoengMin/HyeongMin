{
 "cells": [
  {
   "cell_type": "code",
   "execution_count": 2,
   "metadata": {},
   "outputs": [],
   "source": [
    "import requests\n",
    "import openpyxl\n",
    "import json"
   ]
  },
  {
   "cell_type": "code",
   "execution_count": 24,
   "metadata": {},
   "outputs": [],
   "source": [
    "keyword=input('검색어를 입력하세요 ')\n",
    "\n",
    "response = requests.get(f'https://ac.search.naver.com/nx/ac?q={keyword}&con=0&frm=nv&ans=2&r_format=json&r_enc=UTF-8&r_unicode=0&t_koreng=1&run=2&rev=4&q_enc=UTF-8&st=100&')\n",
    "sers=json.loads(response.text)"
   ]
  },
  {
   "cell_type": "code",
   "execution_count": 53,
   "metadata": {},
   "outputs": [],
   "source": [
    "wb= openpyxl.Workbook()\n",
    "ws=wb.active\n",
    "ws.title=keyword+'연관검색어'\n",
    "ws.append(['순번','연관키워드'])"
   ]
  },
  {
   "cell_type": "code",
   "execution_count": 62,
   "metadata": {},
   "outputs": [],
   "source": [
    "for item in sers['items'][0]:\n",
    "    word=item[0]\n",
    "\n",
    "    ws.append([item+1,word])\n",
    "\n",
    "wb.save('연관검색어.xlsx')\n"
   ]
  },
  {
   "cell_type": "code",
   "execution_count": 14,
   "metadata": {},
   "outputs": [],
   "source": [
    "import requests\n",
    "import openpyxl\n",
    "import json\n",
    "\n",
    "keyword=input('검색어를 입력하세요 ')\n",
    "\n",
    "sub_list=['ㄱ','ㄴ','ㄷ','ㄹ','ㅁ','ㅂ','ㅅ','ㅇ','ㅈ','ㅊ','ㅋ','ㅌ','ㅍ','ㅎ']\n",
    "\n",
    "wb= openpyxl.Workbook()\n",
    "ws=wb.active\n",
    "ws.title=keyword\n",
    "ws['A1']=keyword+'연관검색어'\n",
    "ws.append(['순번','연관키워드'])\n",
    "\n",
    "cnt=1\n",
    "for sub in sub_list:\n",
    "    response = requests.get(f'https://ac.search.naver.com/nx/ac?q={keyword}{sub}&con=0&frm=nv&ans=2&r_format=json&r_enc=UTF-8&r_unicode=0&t_koreng=1&run=2&rev=4&q_enc=UTF-8&st=100&')\n",
    "    sers=json.loads(response.text)\n",
    "\n",
    "    for item in sers['items'][0]:\n",
    "        ws.append([cnt,item[0]])\n",
    "        cnt+=1\n",
    "\n",
    "    wb.save('연관검색어.xlsx')\n"
   ]
  },
  {
   "cell_type": "code",
   "execution_count": null,
   "metadata": {},
   "outputs": [],
   "source": []
  }
 ],
 "metadata": {
  "kernelspec": {
   "display_name": "Python 3",
   "language": "python",
   "name": "python3"
  },
  "language_info": {
   "codemirror_mode": {
    "name": "ipython",
    "version": 3
   },
   "file_extension": ".py",
   "mimetype": "text/x-python",
   "name": "python",
   "nbconvert_exporter": "python",
   "pygments_lexer": "ipython3",
   "version": "3.9.1"
  },
  "orig_nbformat": 4
 },
 "nbformat": 4,
 "nbformat_minor": 2
}
