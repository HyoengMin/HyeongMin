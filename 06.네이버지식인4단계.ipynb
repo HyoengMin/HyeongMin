{
 "cells": [
  {
   "cell_type": "code",
   "execution_count": 2,
   "metadata": {},
   "outputs": [],
   "source": [
    "import requests\n",
    "from bs4 import BeautifulSoup\n",
    "import openpyxl"
   ]
  },
  {
   "cell_type": "code",
   "execution_count": 10,
   "metadata": {},
   "outputs": [],
   "source": [
    "# 4단계\n",
    "# 엑셀 저장\n",
    "# 사용자가 입력한 검색어로 시트생성\n",
    "# 첫행 - 제목 링크 날짜 내용\n",
    "\n",
    "wb= openpyxl.Workbook()\n",
    "\n",
    "strt=input('원하는 키워드를 입력하세요. ')\n",
    "num=int(input('원하는 페이지를 입력하세요. '))\n",
    "\n",
    "for i in range(1,num+1):\n",
    "    response = requests.get(f'https://kin.naver.com/search/list.naver?query={strt}&https://kin.naver.com/search/list.naver?query={num}')\n",
    "    html=response.text\n",
    "    soup=BeautifulSoup(html,'html.parser')\n",
    "\n",
    "# 질문 10개 덩어리 가지고 오기\n",
    "    quesrions=soup.select('li>dl')\n",
    "\n",
    "    ws=wb.create_sheet(strt,num)\n",
    "    ws.append(['제목','링크','날짜','내용'])\n",
    "\n",
    "    for quesrion in quesrions:\n",
    "            \n",
    "        anchor=quesrion.select_one('dt>a')\n",
    "        title=anchor.text\n",
    "        link=anchor.attrs['href']\n",
    "        data=quesrion.select_one('dl>dd').text\n",
    "        ggg=quesrion.select_one('dl>dd:nth-of-type(2)').text\n",
    "            \n",
    "        ws.append([title,link,data,ggg])\n",
    "\n",
    "wb.save(f'{strt}.xlsx')"
   ]
  },
  {
   "cell_type": "code",
   "execution_count": null,
   "metadata": {},
   "outputs": [],
   "source": []
  }
 ],
 "metadata": {
  "kernelspec": {
   "display_name": "Python 3",
   "language": "python",
   "name": "python3"
  },
  "language_info": {
   "codemirror_mode": {
    "name": "ipython",
    "version": 3
   },
   "file_extension": ".py",
   "mimetype": "text/x-python",
   "name": "python",
   "nbconvert_exporter": "python",
   "pygments_lexer": "ipython3",
   "version": "3.9.1"
  },
  "orig_nbformat": 4
 },
 "nbformat": 4,
 "nbformat_minor": 2
}
