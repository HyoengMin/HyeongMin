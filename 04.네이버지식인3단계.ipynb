{
 "cells": [
  {
   "cell_type": "code",
   "execution_count": 1,
   "metadata": {},
   "outputs": [],
   "source": [
    "import requests\n",
    "from bs4 import BeautifulSoup"
   ]
  },
  {
   "cell_type": "code",
   "execution_count": 3,
   "metadata": {},
   "outputs": [
    {
     "name": "stdout",
     "output_type": "stream",
     "text": [
      "1페이지 크롤링 중.....\n",
      "3+3 육아휴직 문의 https://kin.naver.com/qna/detail.naver?d1id=6&dirId=6080402&docId=441171919&qb=Mw==&enc=utf8§ion=kin&rank=1&search_sort=0&spq=0 2023.03.14.\n",
      "... 3+3 육아휴직 문의 현재 쌍둥이 임신 중으로 5월 출산예정입니다. 1) 엄마와 아빠가 아래와 같이 육아휴직 사용시 연달아 동시기 육아휴직으로 3+3... \n",
      "오메가3 선택 잘하려면? https://kin.naver.com/qna/detail.naver?d1id=7&dirId=70403&docId=441026838&qb=Mw==&enc=utf8§ion=kin&rank=2&search_sort=0&spq=0 2023.03.06.\n",
      "... 오메가3 복용 관련하여 조언을 받아보고 싶어서 문의 드려요. 오메가3 여러 제품들이 함량을 속이는 경우도 있다고 해서 신중하게 오메가3 선택하고 싶은데요. 제가... \n",
      "3+3 육아휴직제도 문의 https://kin.naver.com/qna/detail.naver?d1id=6&dirId=60804&docId=442342537&qb=Mw==&enc=utf8§ion=kin&rank=3&search_sort=0&spq=0 2023.03.25.\n",
      "안녕하세요, 3+3 육아휴직제도 관련 문의드립니다. 아기가 작년 7월에 태어났고 제가... 남편이 3+3 육아휴직제도를 적용 받으려면 7월 이전에 써야하는 것으로 알고... \n",
      "lh 청년매입임대주택 3순위 https://kin.naver.com/qna/detail.naver?d1id=4&dirId=40203&docId=442564215&qb=Mw==&enc=utf8§ion=kin&rank=4&search_sort=0&spq=0 2023.03.28.\n",
      "... 부모님께서 차가 각각 있으셔서 두 대인데 3순위에도 들 수 있을까요? 3. 만약 3순위가 된다고 하더라도 3순위가 된 사람이 당첨된 사례가 있긴 한가요? 4. 알바를 오늘부터... \n",
      "루트2+루트3=2.xx 아닌가요? 왜 https://kin.naver.com/qna/detail.naver?d1id=11&dirId=11030303&docId=444031032&qb=Mw==&enc=utf8§ion=kin&rank=5&search_sort=0&spq=0 2023.04.18.\n",
      "루트2+루트3=2.xx 아닌가요? 왜 3<루트2+루트3<4가 되나요?(자세하게 계산삭으로 부탁드려요) 이 문제 풀이 좀 알ㄹ려주세요  루트2 + 루트3 = 2.xxx 라고 생각한 이유가... \n",
      "복합 오메가 3가 뭔가요 https://kin.naver.com/qna/detail.naver?d1id=8&dirId=8020115&docId=440319693&qb=Mw==&enc=utf8§ion=kin&rank=6&search_sort=0&spq=0 2023.03.11.\n",
      "이것도 복합 오메가 3인가요? 혹시 아니면 오메가 3랑 어떤음식을 섭취해야 복합오메가 3먹는 효과가 있나요?  안녕하세요 종근당건강 헬스케어 전문지식인 파트너... \n",
      "육아휴직 3+3 관련 질문 https://kin.naver.com/qna/detail.naver?d1id=6&dirId=60802&docId=443166464&qb=Mw==&enc=utf8§ion=kin&rank=7&search_sort=0&spq=0 2023.04.06.\n",
      "아이 출생일: 2022년 3월 14일 母육아휴직 시작일: 2022년 5월10일 ~ 2022년 5월 9일 까지... 온전히 3+3혜택 전부를 받을수 있는지? 2월달 첫번째 혜택은 받았고요,, 아이... \n",
      "3+3 육아휴직 문의 https://kin.naver.com/qna/detail.naver?d1id=6&dirId=6080401&docId=441319870&qb=Mw==&enc=utf8§ion=kin&rank=8&search_sort=0&spq=0 2023.03.13.\n",
      "... 9월생인 아이가있고 와이프는 육아휴직중인상태입니다 3+3 육아휴직제가 생후... 그이후언제사용하든 3+3을 적용받을수있는건가요? 아니라면 9월출생일 이전으로만... \n",
      "3대진단비보험 질문 있습니다. https://kin.naver.com/qna/detail.naver?d1id=4&dirId=4010302&docId=441587764&qb=Mw==&enc=utf8§ion=kin&rank=9&search_sort=0&spq=0 2023.03.14.\n",
      "3대진단비보험 가입하려고 하는데 보장 구성을 할 때 어떻게 하는 게 좋을지 3대진단비보험 추천을 받고 싶습니다. 아버지가 심장병을 앓은 적이 있어서 저도 미리 3대진단비보... \n",
      "진격의 거인 4기 3쿨? https://kin.naver.com/qna/detail.naver?d1id=1&dirId=10902&docId=440720320&qb=Mw==&enc=utf8§ion=kin&rank=10&search_sort=0&spq=0 2023.03.02.\n",
      "진격거 4기3쿨인가 그거 3/3금요일 24:25에 nhk종합에서 보여준다고 하잖아요 Btv에서 nhk 채널 몇번에 하나요..??ㅠㅜㅠ  안녕하세요. SK브로드밴드 본사 공식... \n",
      "2페이지 크롤링 중.....\n",
      "3+3 육아휴직 문의 https://kin.naver.com/qna/detail.naver?d1id=6&dirId=6080402&docId=441171919&qb=Mw==&enc=utf8§ion=kin&rank=1&search_sort=0&spq=0 2023.03.14.\n",
      "... 3+3 육아휴직 문의 현재 쌍둥이 임신 중으로 5월 출산예정입니다. 1) 엄마와 아빠가 아래와 같이 육아휴직 사용시 연달아 동시기 육아휴직으로 3+3... \n",
      "오메가3 선택 잘하려면? https://kin.naver.com/qna/detail.naver?d1id=7&dirId=70403&docId=441026838&qb=Mw==&enc=utf8§ion=kin&rank=2&search_sort=0&spq=0 2023.03.06.\n",
      "... 오메가3 복용 관련하여 조언을 받아보고 싶어서 문의 드려요. 오메가3 여러 제품들이 함량을 속이는 경우도 있다고 해서 신중하게 오메가3 선택하고 싶은데요. 제가... \n",
      "3+3 육아휴직제도 문의 https://kin.naver.com/qna/detail.naver?d1id=6&dirId=60804&docId=442342537&qb=Mw==&enc=utf8§ion=kin&rank=3&search_sort=0&spq=0 2023.03.25.\n",
      "안녕하세요, 3+3 육아휴직제도 관련 문의드립니다. 아기가 작년 7월에 태어났고 제가... 남편이 3+3 육아휴직제도를 적용 받으려면 7월 이전에 써야하는 것으로 알고... \n",
      "lh 청년매입임대주택 3순위 https://kin.naver.com/qna/detail.naver?d1id=4&dirId=40203&docId=442564215&qb=Mw==&enc=utf8§ion=kin&rank=4&search_sort=0&spq=0 2023.03.28.\n",
      "... 부모님께서 차가 각각 있으셔서 두 대인데 3순위에도 들 수 있을까요? 3. 만약 3순위가 된다고 하더라도 3순위가 된 사람이 당첨된 사례가 있긴 한가요? 4. 알바를 오늘부터... \n",
      "루트2+루트3=2.xx 아닌가요? 왜 https://kin.naver.com/qna/detail.naver?d1id=11&dirId=11030303&docId=444031032&qb=Mw==&enc=utf8§ion=kin&rank=5&search_sort=0&spq=0 2023.04.18.\n",
      "루트2+루트3=2.xx 아닌가요? 왜 3<루트2+루트3<4가 되나요?(자세하게 계산삭으로 부탁드려요) 이 문제 풀이 좀 알ㄹ려주세요  루트2 + 루트3 = 2.xxx 라고 생각한 이유가... \n",
      "복합 오메가 3가 뭔가요 https://kin.naver.com/qna/detail.naver?d1id=8&dirId=8020115&docId=440319693&qb=Mw==&enc=utf8§ion=kin&rank=6&search_sort=0&spq=0 2023.03.11.\n",
      "이것도 복합 오메가 3인가요? 혹시 아니면 오메가 3랑 어떤음식을 섭취해야 복합오메가 3먹는 효과가 있나요?  안녕하세요 종근당건강 헬스케어 전문지식인 파트너... \n",
      "육아휴직 3+3 관련 질문 https://kin.naver.com/qna/detail.naver?d1id=6&dirId=60802&docId=443166464&qb=Mw==&enc=utf8§ion=kin&rank=7&search_sort=0&spq=0 2023.04.06.\n",
      "아이 출생일: 2022년 3월 14일 母육아휴직 시작일: 2022년 5월10일 ~ 2022년 5월 9일 까지... 온전히 3+3혜택 전부를 받을수 있는지? 2월달 첫번째 혜택은 받았고요,, 아이... \n",
      "3+3 육아휴직 문의 https://kin.naver.com/qna/detail.naver?d1id=6&dirId=6080401&docId=441319870&qb=Mw==&enc=utf8§ion=kin&rank=8&search_sort=0&spq=0 2023.03.13.\n",
      "... 9월생인 아이가있고 와이프는 육아휴직중인상태입니다 3+3 육아휴직제가 생후... 그이후언제사용하든 3+3을 적용받을수있는건가요? 아니라면 9월출생일 이전으로만... \n",
      "3대진단비보험 질문 있습니다. https://kin.naver.com/qna/detail.naver?d1id=4&dirId=4010302&docId=441587764&qb=Mw==&enc=utf8§ion=kin&rank=9&search_sort=0&spq=0 2023.03.14.\n",
      "3대진단비보험 가입하려고 하는데 보장 구성을 할 때 어떻게 하는 게 좋을지 3대진단비보험 추천을 받고 싶습니다. 아버지가 심장병을 앓은 적이 있어서 저도 미리 3대진단비보... \n",
      "진격의 거인 4기 3쿨? https://kin.naver.com/qna/detail.naver?d1id=1&dirId=10902&docId=440720320&qb=Mw==&enc=utf8§ion=kin&rank=10&search_sort=0&spq=0 2023.03.02.\n",
      "진격거 4기3쿨인가 그거 3/3금요일 24:25에 nhk종합에서 보여준다고 하잖아요 Btv에서 nhk 채널 몇번에 하나요..??ㅠㅜㅠ  안녕하세요. SK브로드밴드 본사 공식... \n",
      "3페이지 크롤링 중.....\n",
      "3+3 육아휴직 문의 https://kin.naver.com/qna/detail.naver?d1id=6&dirId=6080402&docId=441171919&qb=Mw==&enc=utf8§ion=kin&rank=1&search_sort=0&spq=0 2023.03.14.\n",
      "... 3+3 육아휴직 문의 현재 쌍둥이 임신 중으로 5월 출산예정입니다. 1) 엄마와 아빠가 아래와 같이 육아휴직 사용시 연달아 동시기 육아휴직으로 3+3... \n",
      "오메가3 선택 잘하려면? https://kin.naver.com/qna/detail.naver?d1id=7&dirId=70403&docId=441026838&qb=Mw==&enc=utf8§ion=kin&rank=2&search_sort=0&spq=0 2023.03.06.\n",
      "... 오메가3 복용 관련하여 조언을 받아보고 싶어서 문의 드려요. 오메가3 여러 제품들이 함량을 속이는 경우도 있다고 해서 신중하게 오메가3 선택하고 싶은데요. 제가... \n",
      "3+3 육아휴직제도 문의 https://kin.naver.com/qna/detail.naver?d1id=6&dirId=60804&docId=442342537&qb=Mw==&enc=utf8§ion=kin&rank=3&search_sort=0&spq=0 2023.03.25.\n",
      "안녕하세요, 3+3 육아휴직제도 관련 문의드립니다. 아기가 작년 7월에 태어났고 제가... 남편이 3+3 육아휴직제도를 적용 받으려면 7월 이전에 써야하는 것으로 알고... \n",
      "lh 청년매입임대주택 3순위 https://kin.naver.com/qna/detail.naver?d1id=4&dirId=40203&docId=442564215&qb=Mw==&enc=utf8§ion=kin&rank=4&search_sort=0&spq=0 2023.03.28.\n",
      "... 부모님께서 차가 각각 있으셔서 두 대인데 3순위에도 들 수 있을까요? 3. 만약 3순위가 된다고 하더라도 3순위가 된 사람이 당첨된 사례가 있긴 한가요? 4. 알바를 오늘부터... \n",
      "루트2+루트3=2.xx 아닌가요? 왜 https://kin.naver.com/qna/detail.naver?d1id=11&dirId=11030303&docId=444031032&qb=Mw==&enc=utf8§ion=kin&rank=5&search_sort=0&spq=0 2023.04.18.\n",
      "루트2+루트3=2.xx 아닌가요? 왜 3<루트2+루트3<4가 되나요?(자세하게 계산삭으로 부탁드려요) 이 문제 풀이 좀 알ㄹ려주세요  루트2 + 루트3 = 2.xxx 라고 생각한 이유가... \n",
      "복합 오메가 3가 뭔가요 https://kin.naver.com/qna/detail.naver?d1id=8&dirId=8020115&docId=440319693&qb=Mw==&enc=utf8§ion=kin&rank=6&search_sort=0&spq=0 2023.03.11.\n",
      "이것도 복합 오메가 3인가요? 혹시 아니면 오메가 3랑 어떤음식을 섭취해야 복합오메가 3먹는 효과가 있나요?  안녕하세요 종근당건강 헬스케어 전문지식인 파트너... \n",
      "육아휴직 3+3 관련 질문 https://kin.naver.com/qna/detail.naver?d1id=6&dirId=60802&docId=443166464&qb=Mw==&enc=utf8§ion=kin&rank=7&search_sort=0&spq=0 2023.04.06.\n",
      "아이 출생일: 2022년 3월 14일 母육아휴직 시작일: 2022년 5월10일 ~ 2022년 5월 9일 까지... 온전히 3+3혜택 전부를 받을수 있는지? 2월달 첫번째 혜택은 받았고요,, 아이... \n",
      "3+3 육아휴직 문의 https://kin.naver.com/qna/detail.naver?d1id=6&dirId=6080401&docId=441319870&qb=Mw==&enc=utf8§ion=kin&rank=8&search_sort=0&spq=0 2023.03.13.\n",
      "... 9월생인 아이가있고 와이프는 육아휴직중인상태입니다 3+3 육아휴직제가 생후... 그이후언제사용하든 3+3을 적용받을수있는건가요? 아니라면 9월출생일 이전으로만... \n",
      "3대진단비보험 질문 있습니다. https://kin.naver.com/qna/detail.naver?d1id=4&dirId=4010302&docId=441587764&qb=Mw==&enc=utf8§ion=kin&rank=9&search_sort=0&spq=0 2023.03.14.\n",
      "3대진단비보험 가입하려고 하는데 보장 구성을 할 때 어떻게 하는 게 좋을지 3대진단비보험 추천을 받고 싶습니다. 아버지가 심장병을 앓은 적이 있어서 저도 미리 3대진단비보... \n",
      "진격의 거인 4기 3쿨? https://kin.naver.com/qna/detail.naver?d1id=1&dirId=10902&docId=440720320&qb=Mw==&enc=utf8§ion=kin&rank=10&search_sort=0&spq=0 2023.03.02.\n",
      "진격거 4기3쿨인가 그거 3/3금요일 24:25에 nhk종합에서 보여준다고 하잖아요 Btv에서 nhk 채널 몇번에 하나요..??ㅠㅜㅠ  안녕하세요. SK브로드밴드 본사 공식... \n"
     ]
    }
   ],
   "source": [
    "# 3단계\n",
    "# n 페이지 10개 질문의 제목, 링크, 날짜, 내용\n",
    "# 사용자가 입력한 keyword\n",
    "\n",
    "num=int(input('원하는 페이지 입력하세요. '))\n",
    "\n",
    "for i in range(1,num+1):\n",
    "    response = requests.get(f'https://kin.naver.com/search/list.naver?query={num}')\n",
    "    html=response.text\n",
    "    soup=BeautifulSoup(html,'html.parser')\n",
    "\n",
    "    # 질문 10개 덩어리 가지고 오기\n",
    "    quesrions=soup.select('li>dl')\n",
    "\n",
    "    print(f'{i}페이지 크롤링 중.....')\n",
    "    for quesrion in quesrions:\n",
    "            \n",
    "        anchor=quesrion.select_one('dt>a')\n",
    "        title=anchor.text\n",
    "        link=anchor.attrs['href']\n",
    "        data=quesrion.select_one('dl>dd')\n",
    "        ggg=quesrion.select_one('dl>dd:nth-of-type(2)').text\n",
    "\n",
    "                    \n",
    "        print(title, link, data.text)\n",
    "        print(ggg)\n",
    "\n",
    "# sch=input('원하는 키워드를 입력하세요. ')\n",
    "\n",
    "# response = requests.get('https://kin.naver.com/')\n",
    "# html=response.text\n",
    "\n",
    "\n",
    "# anchor=soup.select_one('li>dl') # 제목\n",
    "# anchor_data=soup.select_one('.txt_inline') #날짜\n",
    "# ggg=soup.select_one('dl>dd:nth-of-type(2)').text #내용\n",
    "#title=anchor.text\n",
    "#link=anchor.attrs['href']\n",
    "#date=anchor_data.text\n",
    "# print(title,link,date)\n",
    "# print(ggg)\n"
   ]
  },
  {
   "cell_type": "code",
   "execution_count": 7,
   "metadata": {},
   "outputs": [
    {
     "data": {
      "text/plain": [
       "'https://kin.naver.com/qna/detail.naver?d1id=1&dirId=102020101&docId=430356733&qb=aGg=&enc=utf8§ion=kin&rank=1&search_sort=0&spq=0'"
      ]
     },
     "execution_count": 7,
     "metadata": {},
     "output_type": "execute_result"
    }
   ],
   "source": [
    "strt=input('원하는 키워드를 입력하세요. ')\n",
    "\n",
    "response = requests.get(f'https://kin.naver.com/search/list.naver?query={strt}')\n",
    "html=response.text\n",
    "soup=BeautifulSoup(html,'html.parser')\n",
    "\n",
    "#anchor=soup.select_one('dt>a')\n",
    "#title=anchor.text\n",
    "anchor.attrs['href']\n",
    "#data=anchor.select_one('dl>dd')\n",
    "#ggg=anchor.select_one('dl>dd:nth-of-type(2)').text\n"
   ]
  },
  {
   "cell_type": "code",
   "execution_count": null,
   "metadata": {},
   "outputs": [],
   "source": []
  }
 ],
 "metadata": {
  "kernelspec": {
   "display_name": "Python 3",
   "language": "python",
   "name": "python3"
  },
  "language_info": {
   "codemirror_mode": {
    "name": "ipython",
    "version": 3
   },
   "file_extension": ".py",
   "mimetype": "text/x-python",
   "name": "python",
   "nbconvert_exporter": "python",
   "pygments_lexer": "ipython3",
   "version": "3.9.1"
  },
  "orig_nbformat": 4
 },
 "nbformat": 4,
 "nbformat_minor": 2
}
