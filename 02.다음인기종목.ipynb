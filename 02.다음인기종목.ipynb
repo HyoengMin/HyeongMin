{
 "cells": [
  {
   "cell_type": "code",
   "execution_count": 1,
   "metadata": {},
   "outputs": [],
   "source": [
    "# 인기 검색 종목 10개\n",
    "# 순위 종목코드 종목명 현재가\n",
    "\n",
    "# header 옵션"
   ]
  },
  {
   "cell_type": "code",
   "execution_count": 34,
   "metadata": {},
   "outputs": [
    {
     "data": {
      "text/plain": [
       "[{'rank': 1,\n",
       "  'rankChange': 2,\n",
       "  'symbolCode': 'A035720',\n",
       "  'code': 'KR7035720002',\n",
       "  'name': '카카오',\n",
       "  'tradePrice': 55800,\n",
       "  'change': 'FALL',\n",
       "  'changePrice': 700,\n",
       "  'changeRate': 0.0123893805,\n",
       "  'chartSlideImage': None,\n",
       "  'isNew': False},\n",
       " {'rank': 2,\n",
       "  'rankChange': -1,\n",
       "  'symbolCode': 'A004690',\n",
       "  'code': 'KR7004690004',\n",
       "  'name': '삼천리',\n",
       "  'tradePrice': 124500,\n",
       "  'change': 'FALL',\n",
       "  'changePrice': 46500,\n",
       "  'changeRate': 0.2719298246,\n",
       "  'chartSlideImage': None,\n",
       "  'isNew': False},\n",
       " {'rank': 3,\n",
       "  'rankChange': -1,\n",
       "  'symbolCode': 'A086520',\n",
       "  'code': 'KR7086520004',\n",
       "  'name': '에코프로',\n",
       "  'tradePrice': 709000,\n",
       "  'change': 'RISE',\n",
       "  'changePrice': 110000,\n",
       "  'changeRate': 0.183639399,\n",
       "  'chartSlideImage': None,\n",
       "  'isNew': False},\n",
       " {'rank': 4,\n",
       "  'rankChange': 0,\n",
       "  'symbolCode': 'A005930',\n",
       "  'code': 'KR7005930003',\n",
       "  'name': '삼성전자',\n",
       "  'tradePrice': 64600,\n",
       "  'change': 'RISE',\n",
       "  'changePrice': 500,\n",
       "  'changeRate': 0.007800312,\n",
       "  'chartSlideImage': None,\n",
       "  'isNew': False},\n",
       " {'rank': 5,\n",
       "  'rankChange': 0,\n",
       "  'symbolCode': 'A068270',\n",
       "  'code': 'KR7068270008',\n",
       "  'name': '셀트리온',\n",
       "  'tradePrice': 163200,\n",
       "  'change': 'FALL',\n",
       "  'changePrice': 2300,\n",
       "  'changeRate': 0.013897281,\n",
       "  'chartSlideImage': None,\n",
       "  'isNew': True},\n",
       " {'rank': 6,\n",
       "  'rankChange': 0,\n",
       "  'symbolCode': 'A093230',\n",
       "  'code': 'KR7093230001',\n",
       "  'name': '이아이디',\n",
       "  'tradePrice': 3035,\n",
       "  'change': 'RISE',\n",
       "  'changePrice': 115,\n",
       "  'changeRate': 0.0393835616,\n",
       "  'chartSlideImage': None,\n",
       "  'isNew': False},\n",
       " {'rank': 7,\n",
       "  'rankChange': 0,\n",
       "  'symbolCode': 'A009830',\n",
       "  'code': 'KR7009830001',\n",
       "  'name': '한화솔루션',\n",
       "  'tradePrice': 51200,\n",
       "  'change': 'FALL',\n",
       "  'changePrice': 1900,\n",
       "  'changeRate': 0.0357815443,\n",
       "  'chartSlideImage': None,\n",
       "  'isNew': True},\n",
       " {'rank': 8,\n",
       "  'rankChange': -1,\n",
       "  'symbolCode': 'A017390',\n",
       "  'code': 'KR7017390006',\n",
       "  'name': '서울가스',\n",
       "  'tradePrice': 112700,\n",
       "  'change': 'LOWER_LIMIT',\n",
       "  'changePrice': 48300,\n",
       "  'changeRate': 0.3,\n",
       "  'chartSlideImage': None,\n",
       "  'isNew': False},\n",
       " {'rank': 9,\n",
       "  'rankChange': -1,\n",
       "  'symbolCode': 'A247540',\n",
       "  'code': 'KR7247540008',\n",
       "  'name': '에코프로비엠',\n",
       "  'tradePrice': 269500,\n",
       "  'change': 'RISE',\n",
       "  'changePrice': 27000,\n",
       "  'changeRate': 0.1113402062,\n",
       "  'chartSlideImage': None,\n",
       "  'isNew': False},\n",
       " {'rank': 10,\n",
       "  'rankChange': -5,\n",
       "  'symbolCode': 'A024810',\n",
       "  'code': 'KR7024810004',\n",
       "  'name': '이화전기',\n",
       "  'tradePrice': 1541,\n",
       "  'change': 'RISE',\n",
       "  'changePrice': 321,\n",
       "  'changeRate': 0.2631147541,\n",
       "  'chartSlideImage': None,\n",
       "  'isNew': False}]"
      ]
     },
     "execution_count": 34,
     "metadata": {},
     "output_type": "execute_result"
    }
   ],
   "source": [
    "import requests\n",
    "import json\n",
    "\n",
    "header= {'user-agent':'Mozila/5.0','referer':'https://finance.daum.net/'}\n",
    "response = requests.get('https://finance.daum.net/api/search/ranks?limit=10', headers=header)\n",
    "\n",
    "data = json.loads(response.text)\n",
    "data['data']\n"
   ]
  },
  {
   "cell_type": "code",
   "execution_count": 44,
   "metadata": {},
   "outputs": [
    {
     "ename": "TypeError",
     "evalue": "unsupported operand type(s) for *: 'type' and 'int'",
     "output_type": "error",
     "traceback": [
      "\u001b[1;31m---------------------------------------------------------------------------\u001b[0m",
      "\u001b[1;31mTypeError\u001b[0m                                 Traceback (most recent call last)",
      "Cell \u001b[1;32mIn[44], line 3\u001b[0m\n\u001b[0;32m      1\u001b[0m \u001b[39mfor\u001b[39;00m ser \u001b[39min\u001b[39;00m data[\u001b[39m'\u001b[39m\u001b[39mdata\u001b[39m\u001b[39m'\u001b[39m]:\n\u001b[0;32m      2\u001b[0m     ty\u001b[39m=\u001b[39m\u001b[39mtype\u001b[39m(ser[\u001b[39m'\u001b[39m\u001b[39mchangeRate\u001b[39m\u001b[39m'\u001b[39m])\n\u001b[1;32m----> 3\u001b[0m     ty\u001b[39m*\u001b[39;49m\u001b[39m100\u001b[39;49m\n\u001b[0;32m      4\u001b[0m     \u001b[39mprint\u001b[39m(ty)\n",
      "\u001b[1;31mTypeError\u001b[0m: unsupported operand type(s) for *: 'type' and 'int'"
     ]
    }
   ],
   "source": [
    "for ser in data['data']:\n",
    "    ty=type(ser['changeRate'])\n",
    "    ty*100\n",
    "    print(ty)"
   ]
  },
  {
   "cell_type": "code",
   "execution_count": 42,
   "metadata": {},
   "outputs": [
    {
     "data": {
      "text/plain": [
       "float"
      ]
     },
     "execution_count": 42,
     "metadata": {},
     "output_type": "execute_result"
    }
   ],
   "source": [
    "test=0.12\n",
    "type(test)"
   ]
  },
  {
   "cell_type": "code",
   "execution_count": 47,
   "metadata": {},
   "outputs": [
    {
     "name": "stdout",
     "output_type": "stream",
     "text": [
      "Collecting pandas\n",
      "  Downloading pandas-2.0.1-cp39-cp39-win_amd64.whl (10.7 MB)\n",
      "Collecting pytz>=2020.1\n",
      "  Downloading pytz-2023.3-py2.py3-none-any.whl (502 kB)\n",
      "Collecting numpy>=1.20.3; python_version < \"3.10\"\n",
      "  Downloading numpy-1.24.3-cp39-cp39-win_amd64.whl (14.9 MB)\n",
      "Collecting tzdata>=2022.1\n",
      "  Downloading tzdata-2023.3-py2.py3-none-any.whl (341 kB)\n",
      "Requirement already satisfied: python-dateutil>=2.8.2 in c:\\users\\aa866\\appdata\\roaming\\python\\python39\\site-packages (from pandas) (2.8.2)\n",
      "Requirement already satisfied: six>=1.5 in c:\\users\\aa866\\appdata\\roaming\\python\\python39\\site-packages (from python-dateutil>=2.8.2->pandas) (1.16.0)\n",
      "Installing collected packages: pytz, numpy, tzdata, pandas\n",
      "Successfully installed numpy-1.24.3 pandas-2.0.1 pytz-2023.3 tzdata-2023.3\n",
      "Note: you may need to restart the kernel to use updated packages.\n"
     ]
    },
    {
     "name": "stderr",
     "output_type": "stream",
     "text": [
      "  WARNING: The script f2py.exe is installed in 'c:\\Users\\aa866\\AppData\\Local\\Programs\\Python\\Python39\\Scripts' which is not on PATH.\n",
      "  Consider adding this directory to PATH or, if you prefer to suppress this warning, use --no-warn-script-location.\n",
      "WARNING: You are using pip version 20.2.3; however, version 23.1.1 is available.\n",
      "You should consider upgrading via the 'c:\\Users\\aa866\\AppData\\Local\\Programs\\Python\\Python39\\python.exe -m pip install --upgrade pip' command.\n"
     ]
    }
   ],
   "source": [
    "%pip install pandas"
   ]
  },
  {
   "cell_type": "code",
   "execution_count": 48,
   "metadata": {},
   "outputs": [],
   "source": [
    "import pandas as pd"
   ]
  },
  {
   "cell_type": "code",
   "execution_count": 52,
   "metadata": {},
   "outputs": [
    {
     "name": "stdout",
     "output_type": "stream",
     "text": [
      "1 KR7035720002 카카오 55800\n",
      "2 KR7004690004 삼천리 124500\n",
      "3 KR7086520004 에코프로 709000\n",
      "4 KR7005930003 삼성전자 64600\n",
      "5 KR7068270008 셀트리온 163200\n",
      "6 KR7093230001 이아이디 3035\n",
      "7 KR7009830001 한화솔루션 51200\n",
      "8 KR7017390006 서울가스 112700\n",
      "9 KR7247540008 에코프로비엠 269500\n",
      "10 KR7024810004 이화전기 1541\n"
     ]
    },
    {
     "data": {
      "text/html": [
       "<div>\n",
       "<style scoped>\n",
       "    .dataframe tbody tr th:only-of-type {\n",
       "        vertical-align: middle;\n",
       "    }\n",
       "\n",
       "    .dataframe tbody tr th {\n",
       "        vertical-align: top;\n",
       "    }\n",
       "\n",
       "    .dataframe thead th {\n",
       "        text-align: right;\n",
       "    }\n",
       "</style>\n",
       "<table border=\"1\" class=\"dataframe\">\n",
       "  <thead>\n",
       "    <tr style=\"text-align: right;\">\n",
       "      <th></th>\n",
       "      <th>순위</th>\n",
       "      <th>코드</th>\n",
       "      <th>종목명</th>\n",
       "      <th>현재가</th>\n",
       "    </tr>\n",
       "  </thead>\n",
       "  <tbody>\n",
       "    <tr>\n",
       "      <th>0</th>\n",
       "      <td>1</td>\n",
       "      <td>KR7035720002</td>\n",
       "      <td>카카오</td>\n",
       "      <td>55800</td>\n",
       "    </tr>\n",
       "    <tr>\n",
       "      <th>1</th>\n",
       "      <td>2</td>\n",
       "      <td>KR7004690004</td>\n",
       "      <td>삼천리</td>\n",
       "      <td>124500</td>\n",
       "    </tr>\n",
       "    <tr>\n",
       "      <th>2</th>\n",
       "      <td>3</td>\n",
       "      <td>KR7086520004</td>\n",
       "      <td>에코프로</td>\n",
       "      <td>709000</td>\n",
       "    </tr>\n",
       "    <tr>\n",
       "      <th>3</th>\n",
       "      <td>4</td>\n",
       "      <td>KR7005930003</td>\n",
       "      <td>삼성전자</td>\n",
       "      <td>64600</td>\n",
       "    </tr>\n",
       "    <tr>\n",
       "      <th>4</th>\n",
       "      <td>5</td>\n",
       "      <td>KR7068270008</td>\n",
       "      <td>셀트리온</td>\n",
       "      <td>163200</td>\n",
       "    </tr>\n",
       "    <tr>\n",
       "      <th>5</th>\n",
       "      <td>6</td>\n",
       "      <td>KR7093230001</td>\n",
       "      <td>이아이디</td>\n",
       "      <td>3035</td>\n",
       "    </tr>\n",
       "    <tr>\n",
       "      <th>6</th>\n",
       "      <td>7</td>\n",
       "      <td>KR7009830001</td>\n",
       "      <td>한화솔루션</td>\n",
       "      <td>51200</td>\n",
       "    </tr>\n",
       "    <tr>\n",
       "      <th>7</th>\n",
       "      <td>8</td>\n",
       "      <td>KR7017390006</td>\n",
       "      <td>서울가스</td>\n",
       "      <td>112700</td>\n",
       "    </tr>\n",
       "    <tr>\n",
       "      <th>8</th>\n",
       "      <td>9</td>\n",
       "      <td>KR7247540008</td>\n",
       "      <td>에코프로비엠</td>\n",
       "      <td>269500</td>\n",
       "    </tr>\n",
       "    <tr>\n",
       "      <th>9</th>\n",
       "      <td>10</td>\n",
       "      <td>KR7024810004</td>\n",
       "      <td>이화전기</td>\n",
       "      <td>1541</td>\n",
       "    </tr>\n",
       "  </tbody>\n",
       "</table>\n",
       "</div>"
      ],
      "text/plain": [
       "   순위            코드     종목명     현재가\n",
       "0   1  KR7035720002     카카오   55800\n",
       "1   2  KR7004690004     삼천리  124500\n",
       "2   3  KR7086520004    에코프로  709000\n",
       "3   4  KR7005930003    삼성전자   64600\n",
       "4   5  KR7068270008    셀트리온  163200\n",
       "5   6  KR7093230001    이아이디    3035\n",
       "6   7  KR7009830001   한화솔루션   51200\n",
       "7   8  KR7017390006    서울가스  112700\n",
       "8   9  KR7247540008  에코프로비엠  269500\n",
       "9  10  KR7024810004    이화전기    1541"
      ]
     },
     "execution_count": 52,
     "metadata": {},
     "output_type": "execute_result"
    }
   ],
   "source": [
    "# 순위 종목코드 종목명 현재가\n",
    "\n",
    "\n",
    "df=pd.DataFrame(columns=['순위','코드','종목명','현재가'])\n",
    "for ser in data['data']:\n",
    "    rank=ser['rank']\n",
    "    code=ser['code']\n",
    "    name=ser['name']\n",
    "    # chg_re=ser['changeRate']\n",
    "    # if ser['change']== 'FALL':\n",
    "    #     chg='-'+(float(chg_re)*100)+'%'\n",
    "    # else:\n",
    "    #     chg=(float(chg_re)*100)+'%'\n",
    "\n",
    "    tradePrice=ser['tradePrice']\n",
    "\n",
    "    print(rank,code,name,tradePrice)\n",
    "    df.loc[len(df)]=([rank,code,name,tradePrice])\n",
    "df\n"
   ]
  },
  {
   "cell_type": "code",
   "execution_count": 2,
   "metadata": {},
   "outputs": [
    {
     "name": "stdout",
     "output_type": "stream",
     "text": [
      "Requirement already satisfied: PyQt5 in c:\\users\\aa866\\appdata\\local\\programs\\python\\python39\\lib\\site-packages (5.15.9)Note: you may need to restart the kernel to use updated packages.\n",
      "\n",
      "Requirement already satisfied: PyQt5-Qt5>=5.15.2 in c:\\users\\aa866\\appdata\\local\\programs\\python\\python39\\lib\\site-packages (from PyQt5) (5.15.2)\n",
      "Requirement already satisfied: PyQt5-sip<13,>=12.11 in c:\\users\\aa866\\appdata\\local\\programs\\python\\python39\\lib\\site-packages (from PyQt5) (12.12.1)\n"
     ]
    },
    {
     "name": "stderr",
     "output_type": "stream",
     "text": [
      "WARNING: You are using pip version 20.2.3; however, version 23.1.1 is available.\n",
      "You should consider upgrading via the 'c:\\Users\\aa866\\AppData\\Local\\Programs\\Python\\Python39\\python.exe -m pip install --upgrade pip' command.\n"
     ]
    }
   ],
   "source": [
    "%pip install PyQt5"
   ]
  }
 ],
 "metadata": {
  "kernelspec": {
   "display_name": "Python 3",
   "language": "python",
   "name": "python3"
  },
  "language_info": {
   "codemirror_mode": {
    "name": "ipython",
    "version": 3
   },
   "file_extension": ".py",
   "mimetype": "text/x-python",
   "name": "python",
   "nbconvert_exporter": "python",
   "pygments_lexer": "ipython3",
   "version": "3.9.1"
  },
  "orig_nbformat": 4
 },
 "nbformat": 4,
 "nbformat_minor": 2
}
