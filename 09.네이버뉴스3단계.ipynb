{
 "cells": [
  {
   "cell_type": "code",
   "execution_count": 1,
   "metadata": {},
   "outputs": [],
   "source": [
    "import requests\n",
    "from bs4 import BeautifulSoup\n",
    "import openpyxl"
   ]
  },
  {
   "cell_type": "code",
   "execution_count": 38,
   "metadata": {},
   "outputs": [],
   "source": [
    "# 3단계\n",
    "# 엑셀 저장\n",
    "# 10개 기사 - 제목, 링크, 내용, 썸네일이미지주소, 언론사(텍스트만 추출)\n",
    "\n",
    "keyword=input('키워드를 입력하세요 ')\n",
    "num=int(input('페이지를 입력하세요 '))\n",
    "\n",
    "wb=openpyxl.Workbook()\n",
    "ws=wb.create_sheet(keyword)\n",
    "\n",
    "# ws=wb.active   -> 현재 활성화된 시트 선택\n",
    "# ws.title=keyword -> 시트이름 변경\n",
    "\n",
    "ws.append(['제목','링크','내용','썸네일이미지주소','언론사'])\n",
    "\n",
    "for i in range(1,num+1):\n",
    "    response = requests.get(f'https://search.naver.com/search.naver?where=news&sm=tab_pge&query={keyword}&start={10*(i-1)+1}')\n",
    "    html=response.text\n",
    "    soup=BeautifulSoup(html,'html.parser')\n",
    "\n",
    "# 질문 10개 덩어리 가지고 오기\n",
    "    articles=soup.select('.news_wrap')\n",
    "\n",
    "    for article in articles:\n",
    "        anchor=article.select_one('.news_tit')\n",
    "        title=anchor.text\n",
    "        link=anchor.attrs['href']\n",
    "        content=article.select_one('.api_txt_lines.dsc_txt_wrap').text\n",
    "        img_tag=article.select_one('.thumb.api_get')\n",
    "        \n",
    "        if img_tag != None:\n",
    "            img_tag.attrs['data-lazysrc']\n",
    "        else:\n",
    "            jpglink=''\n",
    "            \n",
    "        press=article.select_one('.info.press').contents[1]\n",
    "    \n",
    "        ws.append([title,link,content,jpglink,press])\n",
    "\n",
    "wb.save(f'{keyword}.xlsx')"
   ]
  },
  {
   "cell_type": "code",
   "execution_count": 37,
   "metadata": {},
   "outputs": [],
   "source": [
    "# list(press.strings)[0]"
   ]
  }
 ],
 "metadata": {
  "kernelspec": {
   "display_name": "Python 3",
   "language": "python",
   "name": "python3"
  },
  "language_info": {
   "codemirror_mode": {
    "name": "ipython",
    "version": 3
   },
   "file_extension": ".py",
   "mimetype": "text/x-python",
   "name": "python",
   "nbconvert_exporter": "python",
   "pygments_lexer": "ipython3",
   "version": "3.9.1"
  },
  "orig_nbformat": 4
 },
 "nbformat": 4,
 "nbformat_minor": 2
}
